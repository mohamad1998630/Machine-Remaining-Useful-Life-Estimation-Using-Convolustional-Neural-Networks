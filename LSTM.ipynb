{
  "nbformat": 4,
  "nbformat_minor": 0,
  "metadata": {
    "colab": {
      "name": "LSTM.ipynb",
      "provenance": [],
      "collapsed_sections": [
        "9Xz4AykAiN1e"
      ]
    },
    "kernelspec": {
      "name": "python3",
      "display_name": "Python 3"
    },
    "language_info": {
      "name": "python"
    },
    "accelerator": "GPU"
  },
  "cells": [
    {
      "cell_type": "markdown",
      "source": [
        "#**Machine Remaining Useful Life Estimation Using LSTM**"
      ],
      "metadata": {
        "id": "zzovHM1oYJuF"
      }
    },
    {
      "cell_type": "markdown",
      "source": [
        "Predicting the Remining Useful Life for machine using Long-Short Term Memory Network (LSTM)"
      ],
      "metadata": {
        "id": "_Mf3JOoxh65q"
      }
    },
    {
      "cell_type": "markdown",
      "source": [
        "##Imports:\n",
        "\n",
        "Imoprt the necessary files and packages."
      ],
      "metadata": {
        "id": "9Xz4AykAiN1e"
      }
    },
    {
      "cell_type": "code",
      "execution_count": null,
      "metadata": {
        "id": "ugx3Z04Zw4li"
      },
      "outputs": [],
      "source": [
        "from google.colab import files"
      ]
    },
    {
      "cell_type": "code",
      "source": [
        "from google.colab import drive\n",
        "drive.mount('/content/drive')"
      ],
      "metadata": {
        "colab": {
          "base_uri": "https://localhost:8080/"
        },
        "id": "zKjJI5ylw-p3",
        "outputId": "41441279-7713-47a9-8f66-48cd085cf7e1"
      },
      "execution_count": null,
      "outputs": [
        {
          "output_type": "stream",
          "name": "stdout",
          "text": [
            "Drive already mounted at /content/drive; to attempt to forcibly remount, call drive.mount(\"/content/drive\", force_remount=True).\n"
          ]
        }
      ]
    },
    {
      "cell_type": "code",
      "source": [
        "\n",
        "from PreProcessing import *\n",
        "from model import *\n",
        "import torch\n",
        "from torch.utils.data import Dataset, DataLoader\n",
        "import numpy as np\n",
        "from sklearn.metrics import mean_squared_error\n",
        "import torch.nn as nn\n",
        "import matplotlib.pyplot as plt\n",
        "import torch\n",
        "from torch.utils.data import Dataset, DataLoader\n",
        "import numpy as np\n",
        "import math\n",
        "device = \"cuda:0\" if torch.cuda.is_available() else \"cpu\"\n",
        "device = torch.device(device)\n",
        "\n"
      ],
      "metadata": {
        "id": "bDeAYQRwxHO0"
      },
      "execution_count": null,
      "outputs": []
    },
    {
      "cell_type": "markdown",
      "source": [
        "##Load N-CMAPSS Dataset"
      ],
      "metadata": {
        "id": "f7BwcchTxLrY"
      }
    },
    {
      "cell_type": "code",
      "source": [
        "#X  will be in the form pandas DataFrame, and the target Y will be a numpy array\n",
        "(X_dev,y_dev),(X_test,y_test) = load_NCMAPSS_data() \n"
      ],
      "metadata": {
        "id": "05OUN8ybxH-o"
      },
      "execution_count": null,
      "outputs": []
    },
    {
      "cell_type": "markdown",
      "source": [
        "##Prepare the Data for trainig"
      ],
      "metadata": {
        "id": "2sPSAUsmiddS"
      }
    },
    {
      "cell_type": "code",
      "source": [
        "# Normalize the Data \n",
        "X_dev_normalized,X_test_normalized = data_normalization(X_dev,X_test)"
      ],
      "metadata": {
        "id": "0ekr5oeoxO9m"
      },
      "execution_count": null,
      "outputs": []
    },
    {
      "cell_type": "code",
      "source": [
        "# Create a custom datset Class\n",
        "\n",
        "class NCMAPPS(Dataset):\n",
        "\n",
        "    def __init__(self,x,y):\n",
        "        # Initialize data, download, etc.\n",
        "        #X and y will be in the form numpy arrays\n",
        "        \n",
        "        self.x = x[:,:,4:-1] # Take the coloumns that belongs to the sensors readings\n",
        "        self.x= torch.tensor(self.x).float() # Convert to torch tensor\n",
        "        self.y= torch.tensor(y)\n",
        "        self.n_samples = x.shape[0]\n",
        "        \n",
        "    # support indexing such that dataset[i] can be used to get i-th sample\n",
        "    def __getitem__(self, index):\n",
        "        return self.x[index], self.y[index]\n",
        "\n",
        "    # we can call len(dataset) to return the size\n",
        "    def __len__(self):\n",
        "        return self.n_samples"
      ],
      "metadata": {
        "id": "yOeJ70QYxev0"
      },
      "execution_count": null,
      "outputs": []
    },
    {
      "cell_type": "code",
      "source": [
        "# Generate a sequences from the dataset to be used as samples\n",
        "def sequence_generator(df_X,Y,sequence_length):\n",
        "  '''\n",
        "  parameters:\n",
        "  df_X: Dataframe object that contains the features values shape (N,P)\n",
        "  Y : the target output shape (N,1)\n",
        "  sequence_length : number of measurments(rows) to be considered as one sample\n",
        "\n",
        "\n",
        "  return:\n",
        "    X : reshaped version of the df_X values into (N,sequence_length,P) where each X[i] represent a sample\n",
        "    Y : reshaped version of the Y values into (N/sequence_length,1)\n",
        "  '''\n",
        "  N = df_X.shape[0] # Number of measurments\n",
        "  P = df_X.shape[1] # number of featutres\n",
        "\n",
        "  # Initialize the output\n",
        "  X = np.zeros((0,sequence_length,P))\n",
        "  y = np.zeros((0,1))\n",
        "\n",
        "  # the units contaained on the df_X\n",
        "  n_units = np.unique(df_X.unit)\n",
        "  \n",
        "  # For each unit reshape the data into 3D and concatenate it for all units\n",
        "  for u in n_units:\n",
        "\n",
        "    unit = np.array(df_X[df_X.unit==u].values)\n",
        "    target = Y[df_X.unit==u]\n",
        "    x = np.zeros((int(unit.shape[0]/sequence_length),sequence_length,P))\n",
        "    y_ = np.zeros((int(unit.shape[0]/sequence_length),1))\n",
        "    for i in range(0,int(unit.shape[0]/sequence_length)):\n",
        "      x[i] = unit[i*sequence_length:(i+1)*sequence_length]\n",
        "      y_[i] = target[i*sequence_length]\n",
        "    \n",
        "    X = np.concatenate((X,x),axis=0)\n",
        "    \n",
        "    y = np.concatenate((y,y_),axis=0)\n",
        "    \n",
        "  \n",
        "  return X,y\n"
      ],
      "metadata": {
        "id": "VMOA4HqFNA8-"
      },
      "execution_count": null,
      "outputs": []
    },
    {
      "cell_type": "code",
      "source": [
        "X_dev,y_dev1 = sequence_generator(X_dev_normalized,y_dev,100)\n",
        "print(X_dev.shape)\n",
        "print(X_dev_normalized.shape)"
      ],
      "metadata": {
        "colab": {
          "base_uri": "https://localhost:8080/"
        },
        "id": "afgh1r_INAyi",
        "outputId": "5c15eab2-30f3-4c5e-e179-6c2839359ec1"
      },
      "execution_count": null,
      "outputs": [
        {
          "output_type": "stream",
          "name": "stdout",
          "text": [
            "(48850, 100, 32)\n",
            "(4885389, 32)\n"
          ]
        }
      ]
    },
    {
      "cell_type": "code",
      "source": [
        "train_set = NCMAPPS(X_dev,y_dev1)"
      ],
      "metadata": {
        "id": "DcRAJbzuNAve"
      },
      "execution_count": null,
      "outputs": []
    },
    {
      "cell_type": "code",
      "source": [
        "train_loader = DataLoader(train_set,batch_size=1024,shuffle=False)"
      ],
      "metadata": {
        "id": "MHwy12d2NAsf"
      },
      "execution_count": null,
      "outputs": []
    },
    {
      "cell_type": "markdown",
      "source": [
        "##Define and train the Model "
      ],
      "metadata": {
        "id": "eNp-XXbi0CoH"
      }
    },
    {
      "cell_type": "code",
      "source": [
        "import torch.nn as nn\n",
        "import torch.nn.functional as F\n",
        "\n",
        "\n",
        "class LSTM(nn.Module):\n",
        "  \n",
        "    '''\n",
        "    Long-Short Term memory Network Model\n",
        "    '''\n",
        "    def __init__(self, input_size, hidden_size,num_layers):\n",
        "        '''\n",
        "        Parameters :\n",
        "        input_size : the number of features in the input\n",
        "        hidden_size : the number of the hidden units for the lstm\n",
        "        num_layers : the number of layers for the LSTM \n",
        "\n",
        "        '''\n",
        "        super(LSTM, self).__init__()\n",
        "        self.hidden_size = hidden_size\n",
        "        \n",
        "        self.lstm = nn.LSTM(input_size = input_size,hidden_size= hidden_size,num_layers = num_layers,batch_first = True).to(device)\n",
        "        \n",
        "        self.linear = nn.Linear(hidden_size, 1).to(device)\n",
        "        \n",
        "    def forward(self, x):\n",
        "            \n",
        "        lstm_out, self.hidden = self.lstm(x)\n",
        "        \n",
        "        output = self.linear(lstm_out[:,-1,:])\n",
        "        \n",
        "        return output"
      ],
      "metadata": {
        "id": "fZzu1vRSNApr"
      },
      "execution_count": null,
      "outputs": []
    },
    {
      "cell_type": "code",
      "source": [
        "# Create object from the LSTM\n",
        "Model = LSTM(input_size = 27,hidden_size = 27,num_layers = 2)\n",
        "\n",
        "# Loss function\n",
        "loss_fn = nn.MSELoss()\n",
        "\n",
        "# The optimizer\n",
        "optim = torch.optim.Adam(Model.parameters())"
      ],
      "metadata": {
        "id": "yHNIP8h5NAj0"
      },
      "execution_count": null,
      "outputs": []
    },
    {
      "cell_type": "code",
      "source": [
        "#Training loop \n",
        "def training_loop(n_epochs, optimiser, model, loss_fn, train_loader):\n",
        "  '''\n",
        "  Parameters:\n",
        "  n_epochs :  number of epochs\n",
        "  optimiser : optimiser used for training\n",
        "  model : the model to be trained \n",
        "  loss_fn : loss function used to train the model\n",
        "  batch_size : the batch size \n",
        "  train_loader : dataloader object to load the training data during the training\n",
        "  '''\n",
        "  train_curve = []\n",
        "  for epoch in range(1, n_epochs + 1):\n",
        "    loss = [] # the loss for each epoch\n",
        "    for i ,(features,targets) in enumerate(train_loader):\n",
        "      \n",
        "      features= features.to(device)\n",
        "      targets= targets.to(device)\n",
        "      output_train = model.forward(features) # forwards pass\n",
        "      \n",
        "      targets = torch.tensor(targets,dtype=torch.float32)\n",
        "      loss_train = loss_fn(output_train, targets) # calculate loss\n",
        "      optimiser.zero_grad() # set gradients to zero\n",
        "      loss_train.backward() # backwards pass\n",
        "      optimiser.step() # update model parameters\n",
        "      loss.append(loss_train.item())    \n",
        "\n",
        "    train_curve.append(np.mean(loss))\n",
        "    print(f\"Epoch {epoch}, Training loss {np.mean(loss):.4f},\")\n",
        "    \n",
        "\n",
        "  return train_curve"
      ],
      "metadata": {
        "id": "0u9TS-1vNAg4"
      },
      "execution_count": null,
      "outputs": []
    },
    {
      "cell_type": "code",
      "source": [
        "train_curve = training_loop(500,optim,Model,loss_fn,train_loader)"
      ],
      "metadata": {
        "colab": {
          "base_uri": "https://localhost:8080/"
        },
        "id": "36Hs4NRZNAcf",
        "outputId": "6b69ad81-3110-4220-b8d3-6aee8dd46461"
      },
      "execution_count": null,
      "outputs": [
        {
          "output_type": "stream",
          "name": "stdout",
          "text": [
            "Epoch 1, Training loss 1424.7142,\n",
            "Epoch 2, Training loss 1231.2961,\n",
            "Epoch 3, Training loss 1103.3770,\n",
            "Epoch 4, Training loss 1027.3264,\n",
            "Epoch 5, Training loss 965.2328,\n",
            "Epoch 6, Training loss 910.9578,\n",
            "Epoch 7, Training loss 862.4321,\n",
            "Epoch 8, Training loss 818.6203,\n",
            "Epoch 9, Training loss 778.8738,\n",
            "Epoch 10, Training loss 742.7277,\n",
            "Epoch 11, Training loss 709.8195,\n",
            "Epoch 12, Training loss 679.8505,\n",
            "Epoch 13, Training loss 652.5649,\n",
            "Epoch 14, Training loss 627.7376,\n",
            "Epoch 15, Training loss 605.1669,\n",
            "Epoch 16, Training loss 584.6695,\n",
            "Epoch 17, Training loss 566.0774,\n",
            "Epoch 18, Training loss 549.2359,\n",
            "Epoch 19, Training loss 534.0016,\n",
            "Epoch 20, Training loss 520.2417,\n",
            "Epoch 21, Training loss 507.8324,\n",
            "Epoch 22, Training loss 496.6588,\n",
            "Epoch 23, Training loss 486.6141,\n",
            "Epoch 24, Training loss 477.5989,\n",
            "Epoch 25, Training loss 469.5210,\n",
            "Epoch 26, Training loss 462.2949,\n",
            "Epoch 27, Training loss 455.8416,\n",
            "Epoch 28, Training loss 450.0879,\n",
            "Epoch 29, Training loss 444.9664,\n",
            "Epoch 30, Training loss 440.4151,\n",
            "Epoch 31, Training loss 436.3772,\n",
            "Epoch 32, Training loss 432.8004,\n",
            "Epoch 33, Training loss 429.6372,\n",
            "Epoch 34, Training loss 426.8441,\n",
            "Epoch 35, Training loss 424.3815,\n",
            "Epoch 36, Training loss 422.2137,\n",
            "Epoch 37, Training loss 420.3081,\n",
            "Epoch 38, Training loss 418.6355,\n",
            "Epoch 39, Training loss 417.1695,\n",
            "Epoch 40, Training loss 415.8863,\n",
            "Epoch 41, Training loss 414.7647,\n",
            "Epoch 42, Training loss 413.7855,\n",
            "Epoch 43, Training loss 412.9318,\n",
            "Epoch 44, Training loss 412.1884,\n",
            "Epoch 45, Training loss 411.5418,\n",
            "Epoch 46, Training loss 410.9802,\n",
            "Epoch 47, Training loss 410.4928,\n",
            "Epoch 48, Training loss 410.0703,\n",
            "Epoch 49, Training loss 409.7045,\n",
            "Epoch 50, Training loss 409.3882,\n",
            "Epoch 51, Training loss 409.1148,\n",
            "Epoch 52, Training loss 408.8787,\n",
            "Epoch 53, Training loss 408.6751,\n",
            "Epoch 54, Training loss 408.4997,\n",
            "Epoch 55, Training loss 408.3488,\n",
            "Epoch 56, Training loss 408.2186,\n",
            "Epoch 57, Training loss 408.1068,\n",
            "Epoch 58, Training loss 408.0111,\n",
            "Epoch 59, Training loss 407.9282,\n",
            "Epoch 60, Training loss 407.8583,\n",
            "Epoch 61, Training loss 407.7972,\n",
            "Epoch 62, Training loss 407.7443,\n",
            "Epoch 63, Training loss 407.7008,\n",
            "Epoch 64, Training loss 407.6610,\n",
            "Epoch 65, Training loss 407.6265,\n",
            "Epoch 66, Training loss 407.5992,\n",
            "Epoch 67, Training loss 407.5754,\n",
            "Epoch 68, Training loss 407.5576,\n",
            "Epoch 69, Training loss 407.5406,\n",
            "Epoch 70, Training loss 407.5249,\n",
            "Epoch 71, Training loss 407.5099,\n",
            "Epoch 72, Training loss 407.4993,\n",
            "Epoch 73, Training loss 407.4895,\n",
            "Epoch 74, Training loss 407.4804,\n",
            "Epoch 75, Training loss 407.4722,\n",
            "Epoch 76, Training loss 407.4638,\n",
            "Epoch 77, Training loss 407.4519,\n",
            "Epoch 78, Training loss 407.4268,\n",
            "Epoch 79, Training loss 407.3509,\n",
            "Epoch 80, Training loss 405.6160,\n",
            "Epoch 81, Training loss 406.8199,\n",
            "Epoch 82, Training loss 403.6891,\n",
            "Epoch 83, Training loss 386.5706,\n",
            "Epoch 84, Training loss 370.7899,\n",
            "Epoch 85, Training loss 347.7214,\n",
            "Epoch 86, Training loss 350.2456,\n",
            "Epoch 87, Training loss 343.8593,\n",
            "Epoch 88, Training loss 318.2809,\n",
            "Epoch 89, Training loss 306.1508,\n",
            "Epoch 90, Training loss 322.7178,\n",
            "Epoch 91, Training loss 291.8079,\n",
            "Epoch 92, Training loss 300.1483,\n",
            "Epoch 93, Training loss 288.6274,\n",
            "Epoch 94, Training loss 265.9566,\n",
            "Epoch 95, Training loss 267.6816,\n",
            "Epoch 96, Training loss 254.7658,\n",
            "Epoch 97, Training loss 248.5550,\n",
            "Epoch 98, Training loss 241.5566,\n",
            "Epoch 99, Training loss 234.4522,\n",
            "Epoch 100, Training loss 248.8647,\n",
            "Epoch 101, Training loss 235.6294,\n",
            "Epoch 102, Training loss 263.5809,\n",
            "Epoch 103, Training loss 307.1862,\n",
            "Epoch 104, Training loss 311.4865,\n",
            "Epoch 105, Training loss 277.9315,\n",
            "Epoch 106, Training loss 252.0091,\n",
            "Epoch 107, Training loss 248.7136,\n",
            "Epoch 108, Training loss 231.3642,\n",
            "Epoch 109, Training loss 222.5077,\n",
            "Epoch 110, Training loss 217.5599,\n",
            "Epoch 111, Training loss 202.1591,\n",
            "Epoch 112, Training loss 220.4648,\n",
            "Epoch 113, Training loss 193.2817,\n",
            "Epoch 114, Training loss 232.3813,\n",
            "Epoch 115, Training loss 200.3457,\n",
            "Epoch 116, Training loss 183.3012,\n",
            "Epoch 117, Training loss 168.6665,\n",
            "Epoch 118, Training loss 182.6611,\n",
            "Epoch 119, Training loss 195.8122,\n",
            "Epoch 120, Training loss 195.0177,\n",
            "Epoch 121, Training loss 164.8357,\n",
            "Epoch 122, Training loss 178.9266,\n",
            "Epoch 123, Training loss 180.4450,\n",
            "Epoch 124, Training loss 174.4013,\n",
            "Epoch 125, Training loss 173.9487,\n",
            "Epoch 126, Training loss 159.3148,\n",
            "Epoch 127, Training loss 175.0472,\n",
            "Epoch 128, Training loss 167.0900,\n",
            "Epoch 129, Training loss 154.3334,\n",
            "Epoch 130, Training loss 169.8051,\n",
            "Epoch 131, Training loss 190.5917,\n",
            "Epoch 132, Training loss 159.3489,\n",
            "Epoch 133, Training loss 176.3432,\n",
            "Epoch 134, Training loss 145.2831,\n",
            "Epoch 135, Training loss 243.9490,\n",
            "Epoch 136, Training loss 224.6793,\n",
            "Epoch 137, Training loss 208.1086,\n",
            "Epoch 138, Training loss 175.6341,\n",
            "Epoch 139, Training loss 182.1945,\n",
            "Epoch 140, Training loss 167.9049,\n",
            "Epoch 141, Training loss 158.9945,\n",
            "Epoch 142, Training loss 153.6535,\n",
            "Epoch 143, Training loss 138.5299,\n",
            "Epoch 144, Training loss 141.7801,\n",
            "Epoch 145, Training loss 179.2437,\n",
            "Epoch 146, Training loss 165.9847,\n",
            "Epoch 147, Training loss 149.5387,\n",
            "Epoch 148, Training loss 166.0496,\n",
            "Epoch 149, Training loss 139.0935,\n",
            "Epoch 150, Training loss 139.9375,\n",
            "Epoch 151, Training loss 189.0816,\n",
            "Epoch 152, Training loss 176.1868,\n",
            "Epoch 153, Training loss 141.0396,\n",
            "Epoch 154, Training loss 140.4900,\n",
            "Epoch 155, Training loss 160.2643,\n",
            "Epoch 156, Training loss 141.5880,\n",
            "Epoch 157, Training loss 144.2939,\n",
            "Epoch 158, Training loss 151.5181,\n",
            "Epoch 159, Training loss 140.2343,\n",
            "Epoch 160, Training loss 142.0408,\n",
            "Epoch 161, Training loss 155.6278,\n",
            "Epoch 162, Training loss 134.1458,\n",
            "Epoch 163, Training loss 135.6130,\n",
            "Epoch 164, Training loss 151.1374,\n",
            "Epoch 165, Training loss 130.2818,\n",
            "Epoch 166, Training loss 151.3090,\n",
            "Epoch 167, Training loss 134.5557,\n",
            "Epoch 168, Training loss 153.2560,\n",
            "Epoch 169, Training loss 129.4560,\n",
            "Epoch 170, Training loss 154.4914,\n",
            "Epoch 171, Training loss 134.1070,\n",
            "Epoch 172, Training loss 159.8578,\n",
            "Epoch 173, Training loss 129.2981,\n",
            "Epoch 174, Training loss 141.6165,\n",
            "Epoch 175, Training loss 127.3117,\n",
            "Epoch 176, Training loss 144.7277,\n",
            "Epoch 177, Training loss 126.4795,\n",
            "Epoch 178, Training loss 141.1473,\n",
            "Epoch 179, Training loss 145.6285,\n",
            "Epoch 180, Training loss 122.2928,\n",
            "Epoch 181, Training loss 166.7979,\n",
            "Epoch 182, Training loss 128.9856,\n",
            "Epoch 183, Training loss 158.9306,\n",
            "Epoch 184, Training loss 124.5551,\n",
            "Epoch 185, Training loss 162.5297,\n",
            "Epoch 186, Training loss 138.3035,\n",
            "Epoch 187, Training loss 138.7676,\n",
            "Epoch 188, Training loss 147.8530,\n",
            "Epoch 189, Training loss 129.0566,\n",
            "Epoch 190, Training loss 152.0873,\n",
            "Epoch 191, Training loss 124.3318,\n",
            "Epoch 192, Training loss 130.1520,\n",
            "Epoch 193, Training loss 158.7883,\n",
            "Epoch 194, Training loss 129.3588,\n",
            "Epoch 195, Training loss 179.5308,\n",
            "Epoch 196, Training loss 140.3123,\n",
            "Epoch 197, Training loss 145.2385,\n",
            "Epoch 198, Training loss 198.5902,\n",
            "Epoch 199, Training loss 158.0539,\n",
            "Epoch 200, Training loss 133.0852,\n",
            "Epoch 201, Training loss 141.7768,\n",
            "Epoch 202, Training loss 144.6945,\n",
            "Epoch 203, Training loss 127.4594,\n",
            "Epoch 204, Training loss 154.7104,\n",
            "Epoch 205, Training loss 134.6249,\n",
            "Epoch 206, Training loss 175.9830,\n",
            "Epoch 207, Training loss 134.4517,\n",
            "Epoch 208, Training loss 142.7726,\n",
            "Epoch 209, Training loss 131.9106,\n",
            "Epoch 210, Training loss 129.2399,\n",
            "Epoch 211, Training loss 131.8498,\n",
            "Epoch 212, Training loss 128.1571,\n",
            "Epoch 213, Training loss 166.0709,\n",
            "Epoch 214, Training loss 137.1084,\n",
            "Epoch 215, Training loss 164.6850,\n",
            "Epoch 216, Training loss 143.4004,\n",
            "Epoch 217, Training loss 140.7954,\n",
            "Epoch 218, Training loss 132.5165,\n",
            "Epoch 219, Training loss 134.9731,\n",
            "Epoch 220, Training loss 128.2142,\n",
            "Epoch 221, Training loss 133.1913,\n",
            "Epoch 222, Training loss 127.9780,\n",
            "Epoch 223, Training loss 132.0473,\n",
            "Epoch 224, Training loss 127.9325,\n",
            "Epoch 225, Training loss 130.1836,\n",
            "Epoch 226, Training loss 133.6691,\n",
            "Epoch 227, Training loss 128.5393,\n",
            "Epoch 228, Training loss 154.7949,\n",
            "Epoch 229, Training loss 123.2726,\n",
            "Epoch 230, Training loss 141.2705,\n",
            "Epoch 231, Training loss 123.4125,\n",
            "Epoch 232, Training loss 148.3377,\n",
            "Epoch 233, Training loss 120.7349,\n",
            "Epoch 234, Training loss 144.4053,\n",
            "Epoch 235, Training loss 121.2715,\n",
            "Epoch 236, Training loss 128.1821,\n",
            "Epoch 237, Training loss 124.0010,\n",
            "Epoch 238, Training loss 122.4584,\n",
            "Epoch 239, Training loss 133.9285,\n",
            "Epoch 240, Training loss 121.4140,\n",
            "Epoch 241, Training loss 139.1799,\n",
            "Epoch 242, Training loss 122.2595,\n",
            "Epoch 243, Training loss 135.6815,\n",
            "Epoch 244, Training loss 119.8367,\n",
            "Epoch 245, Training loss 142.7782,\n",
            "Epoch 246, Training loss 120.6640,\n",
            "Epoch 247, Training loss 153.9397,\n",
            "Epoch 248, Training loss 118.7170,\n",
            "Epoch 249, Training loss 130.2776,\n",
            "Epoch 250, Training loss 169.5166,\n",
            "Epoch 251, Training loss 146.4679,\n",
            "Epoch 252, Training loss 121.5638,\n",
            "Epoch 253, Training loss 120.0468,\n",
            "Epoch 254, Training loss 130.2348,\n",
            "Epoch 255, Training loss 118.3826,\n",
            "Epoch 256, Training loss 132.8157,\n",
            "Epoch 257, Training loss 116.9547,\n",
            "Epoch 258, Training loss 146.6846,\n",
            "Epoch 259, Training loss 115.5373,\n",
            "Epoch 260, Training loss 129.8401,\n",
            "Epoch 261, Training loss 115.5926,\n",
            "Epoch 262, Training loss 137.7583,\n",
            "Epoch 263, Training loss 115.2597,\n",
            "Epoch 264, Training loss 138.2326,\n",
            "Epoch 265, Training loss 114.7456,\n",
            "Epoch 266, Training loss 132.5105,\n",
            "Epoch 267, Training loss 116.9167,\n",
            "Epoch 268, Training loss 136.7240,\n",
            "Epoch 269, Training loss 116.8849,\n",
            "Epoch 270, Training loss 130.6147,\n",
            "Epoch 271, Training loss 115.8244,\n",
            "Epoch 272, Training loss 138.2992,\n",
            "Epoch 273, Training loss 115.2083,\n",
            "Epoch 274, Training loss 138.4562,\n",
            "Epoch 275, Training loss 114.0998,\n",
            "Epoch 276, Training loss 127.7983,\n",
            "Epoch 277, Training loss 115.1812,\n",
            "Epoch 278, Training loss 123.7691,\n",
            "Epoch 279, Training loss 115.0194,\n",
            "Epoch 280, Training loss 151.4787,\n",
            "Epoch 281, Training loss 139.0803,\n",
            "Epoch 282, Training loss 121.9108,\n",
            "Epoch 283, Training loss 121.3613,\n",
            "Epoch 284, Training loss 122.9679,\n",
            "Epoch 285, Training loss 118.6149,\n",
            "Epoch 286, Training loss 122.5276,\n",
            "Epoch 287, Training loss 114.2588,\n",
            "Epoch 288, Training loss 122.2291,\n",
            "Epoch 289, Training loss 113.6154,\n",
            "Epoch 290, Training loss 125.5919,\n",
            "Epoch 291, Training loss 114.8033,\n",
            "Epoch 292, Training loss 130.8821,\n",
            "Epoch 293, Training loss 111.1986,\n",
            "Epoch 294, Training loss 132.2912,\n",
            "Epoch 295, Training loss 119.1283,\n",
            "Epoch 296, Training loss 129.2251,\n",
            "Epoch 297, Training loss 112.1963,\n",
            "Epoch 298, Training loss 121.4825,\n",
            "Epoch 299, Training loss 111.1854,\n",
            "Epoch 300, Training loss 123.8646,\n",
            "Epoch 301, Training loss 115.8476,\n",
            "Epoch 302, Training loss 121.8545,\n",
            "Epoch 303, Training loss 111.5284,\n",
            "Epoch 304, Training loss 128.4789,\n",
            "Epoch 305, Training loss 109.3848,\n",
            "Epoch 306, Training loss 127.8044,\n",
            "Epoch 307, Training loss 109.5690,\n",
            "Epoch 308, Training loss 127.8811,\n",
            "Epoch 309, Training loss 109.8701,\n",
            "Epoch 310, Training loss 128.0703,\n",
            "Epoch 311, Training loss 108.2640,\n",
            "Epoch 312, Training loss 124.5064,\n",
            "Epoch 313, Training loss 110.1049,\n",
            "Epoch 314, Training loss 116.6183,\n",
            "Epoch 315, Training loss 111.1578,\n",
            "Epoch 316, Training loss 117.8764,\n",
            "Epoch 317, Training loss 109.5575,\n",
            "Epoch 318, Training loss 124.4865,\n",
            "Epoch 319, Training loss 109.3948,\n",
            "Epoch 320, Training loss 122.0610,\n",
            "Epoch 321, Training loss 109.0836,\n",
            "Epoch 322, Training loss 127.0015,\n",
            "Epoch 323, Training loss 108.0170,\n",
            "Epoch 324, Training loss 120.9602,\n",
            "Epoch 325, Training loss 111.0835,\n",
            "Epoch 326, Training loss 122.1336,\n",
            "Epoch 327, Training loss 107.4690,\n",
            "Epoch 328, Training loss 122.3551,\n",
            "Epoch 329, Training loss 110.0100,\n",
            "Epoch 330, Training loss 118.5335,\n",
            "Epoch 331, Training loss 108.7091,\n",
            "Epoch 332, Training loss 121.6405,\n",
            "Epoch 333, Training loss 108.3943,\n",
            "Epoch 334, Training loss 122.9690,\n",
            "Epoch 335, Training loss 110.3715,\n",
            "Epoch 336, Training loss 126.0056,\n",
            "Epoch 337, Training loss 113.9509,\n",
            "Epoch 338, Training loss 122.4330,\n",
            "Epoch 339, Training loss 111.1928,\n",
            "Epoch 340, Training loss 118.6777,\n",
            "Epoch 341, Training loss 106.3123,\n",
            "Epoch 342, Training loss 131.7862,\n",
            "Epoch 343, Training loss 125.9675,\n",
            "Epoch 344, Training loss 115.8020,\n",
            "Epoch 345, Training loss 111.0749,\n",
            "Epoch 346, Training loss 127.9855,\n",
            "Epoch 347, Training loss 112.6515,\n",
            "Epoch 348, Training loss 123.0133,\n",
            "Epoch 349, Training loss 111.6296,\n",
            "Epoch 350, Training loss 117.5366,\n",
            "Epoch 351, Training loss 111.6638,\n",
            "Epoch 352, Training loss 113.3463,\n",
            "Epoch 353, Training loss 109.5491,\n",
            "Epoch 354, Training loss 121.5032,\n",
            "Epoch 355, Training loss 109.4718,\n",
            "Epoch 356, Training loss 124.2890,\n",
            "Epoch 357, Training loss 109.0233,\n",
            "Epoch 358, Training loss 108.3156,\n",
            "Epoch 359, Training loss 121.2905,\n",
            "Epoch 360, Training loss 105.1760,\n",
            "Epoch 361, Training loss 123.7972,\n",
            "Epoch 362, Training loss 106.9772,\n",
            "Epoch 363, Training loss 112.4748,\n",
            "Epoch 364, Training loss 107.1236,\n",
            "Epoch 365, Training loss 111.5175,\n",
            "Epoch 366, Training loss 106.5446,\n",
            "Epoch 367, Training loss 113.7486,\n",
            "Epoch 368, Training loss 104.5397,\n",
            "Epoch 369, Training loss 123.7612,\n",
            "Epoch 370, Training loss 106.4367,\n",
            "Epoch 371, Training loss 112.0628,\n",
            "Epoch 372, Training loss 106.7004,\n",
            "Epoch 373, Training loss 110.2396,\n",
            "Epoch 374, Training loss 106.3246,\n",
            "Epoch 375, Training loss 109.8582,\n",
            "Epoch 376, Training loss 104.8513,\n",
            "Epoch 377, Training loss 109.5259,\n",
            "Epoch 378, Training loss 107.6254,\n",
            "Epoch 379, Training loss 108.9216,\n",
            "Epoch 380, Training loss 107.2499,\n",
            "Epoch 381, Training loss 107.6510,\n",
            "Epoch 382, Training loss 115.8195,\n",
            "Epoch 383, Training loss 106.3272,\n",
            "Epoch 384, Training loss 113.6422,\n",
            "Epoch 385, Training loss 105.9146,\n",
            "Epoch 386, Training loss 119.9044,\n",
            "Epoch 387, Training loss 104.1044,\n",
            "Epoch 388, Training loss 113.2346,\n",
            "Epoch 389, Training loss 108.6308,\n",
            "Epoch 390, Training loss 115.5564,\n",
            "Epoch 391, Training loss 105.0694,\n",
            "Epoch 392, Training loss 116.1697,\n",
            "Epoch 393, Training loss 104.2861,\n",
            "Epoch 394, Training loss 115.1446,\n",
            "Epoch 395, Training loss 105.2244,\n",
            "Epoch 396, Training loss 113.1023,\n",
            "Epoch 397, Training loss 104.9671,\n",
            "Epoch 398, Training loss 110.8599,\n",
            "Epoch 399, Training loss 105.1158,\n",
            "Epoch 400, Training loss 109.3059,\n",
            "Epoch 401, Training loss 106.7346,\n",
            "Epoch 402, Training loss 105.2241,\n",
            "Epoch 403, Training loss 112.5201,\n",
            "Epoch 404, Training loss 105.3757,\n",
            "Epoch 405, Training loss 112.4734,\n",
            "Epoch 406, Training loss 105.3012,\n",
            "Epoch 407, Training loss 108.0265,\n",
            "Epoch 408, Training loss 105.6018,\n",
            "Epoch 409, Training loss 104.9217,\n",
            "Epoch 410, Training loss 109.4625,\n",
            "Epoch 411, Training loss 105.8368,\n",
            "Epoch 412, Training loss 111.2414,\n",
            "Epoch 413, Training loss 106.0671,\n",
            "Epoch 414, Training loss 110.5057,\n",
            "Epoch 415, Training loss 106.3036,\n",
            "Epoch 416, Training loss 108.3743,\n",
            "Epoch 417, Training loss 107.4367,\n",
            "Epoch 418, Training loss 106.6490,\n",
            "Epoch 419, Training loss 106.5516,\n",
            "Epoch 420, Training loss 105.5195,\n",
            "Epoch 421, Training loss 109.5272,\n",
            "Epoch 422, Training loss 111.7833,\n",
            "Epoch 423, Training loss 108.3055,\n",
            "Epoch 424, Training loss 107.0343,\n",
            "Epoch 425, Training loss 106.2950,\n",
            "Epoch 426, Training loss 105.8509,\n",
            "Epoch 427, Training loss 106.1033,\n",
            "Epoch 428, Training loss 105.6371,\n",
            "Epoch 429, Training loss 104.5887,\n",
            "Epoch 430, Training loss 107.9214,\n",
            "Epoch 431, Training loss 102.7450,\n",
            "Epoch 432, Training loss 107.3129,\n",
            "Epoch 433, Training loss 107.1890,\n",
            "Epoch 434, Training loss 107.7403,\n",
            "Epoch 435, Training loss 105.3978,\n",
            "Epoch 436, Training loss 105.3931,\n",
            "Epoch 437, Training loss 123.4386,\n",
            "Epoch 438, Training loss 125.5415,\n",
            "Epoch 439, Training loss 104.6887,\n",
            "Epoch 440, Training loss 107.7295,\n",
            "Epoch 441, Training loss 103.2099,\n",
            "Epoch 442, Training loss 105.2148,\n",
            "Epoch 443, Training loss 101.8070,\n",
            "Epoch 444, Training loss 106.7060,\n",
            "Epoch 445, Training loss 102.4281,\n",
            "Epoch 446, Training loss 107.3350,\n",
            "Epoch 447, Training loss 102.4208,\n",
            "Epoch 448, Training loss 106.9631,\n",
            "Epoch 449, Training loss 150.5788,\n",
            "Epoch 450, Training loss 125.2389,\n",
            "Epoch 451, Training loss 127.1082,\n",
            "Epoch 452, Training loss 124.0043,\n",
            "Epoch 453, Training loss 112.1209,\n",
            "Epoch 454, Training loss 113.1474,\n",
            "Epoch 455, Training loss 107.5252,\n",
            "Epoch 456, Training loss 110.1553,\n",
            "Epoch 457, Training loss 107.7289,\n",
            "Epoch 458, Training loss 107.4393,\n",
            "Epoch 459, Training loss 103.1353,\n",
            "Epoch 460, Training loss 105.6400,\n",
            "Epoch 461, Training loss 101.4238,\n",
            "Epoch 462, Training loss 107.3270,\n",
            "Epoch 463, Training loss 101.3959,\n",
            "Epoch 464, Training loss 105.4174,\n",
            "Epoch 465, Training loss 105.2911,\n",
            "Epoch 466, Training loss 101.6567,\n",
            "Epoch 467, Training loss 103.0595,\n",
            "Epoch 468, Training loss 102.2057,\n",
            "Epoch 469, Training loss 103.4656,\n",
            "Epoch 470, Training loss 99.7370,\n",
            "Epoch 471, Training loss 106.4705,\n",
            "Epoch 472, Training loss 101.6787,\n",
            "Epoch 473, Training loss 106.6434,\n",
            "Epoch 474, Training loss 102.9745,\n",
            "Epoch 475, Training loss 102.7916,\n",
            "Epoch 476, Training loss 101.7077,\n",
            "Epoch 477, Training loss 102.8439,\n",
            "Epoch 478, Training loss 101.5050,\n",
            "Epoch 479, Training loss 103.7973,\n",
            "Epoch 480, Training loss 101.2520,\n",
            "Epoch 481, Training loss 102.4951,\n",
            "Epoch 482, Training loss 101.5805,\n",
            "Epoch 483, Training loss 103.4498,\n",
            "Epoch 484, Training loss 102.4909,\n",
            "Epoch 485, Training loss 102.4999,\n",
            "Epoch 486, Training loss 102.8389,\n",
            "Epoch 487, Training loss 100.7843,\n",
            "Epoch 488, Training loss 102.0305,\n",
            "Epoch 489, Training loss 102.2376,\n",
            "Epoch 490, Training loss 115.9728,\n",
            "Epoch 491, Training loss 103.0943,\n",
            "Epoch 492, Training loss 108.0876,\n",
            "Epoch 493, Training loss 102.6352,\n",
            "Epoch 494, Training loss 102.0816,\n",
            "Epoch 495, Training loss 103.4058,\n",
            "Epoch 496, Training loss 108.5170,\n",
            "Epoch 497, Training loss 107.5496,\n",
            "Epoch 498, Training loss 102.5351,\n",
            "Epoch 499, Training loss 103.3577,\n",
            "Epoch 500, Training loss 100.3395,\n"
          ]
        }
      ]
    },
    {
      "cell_type": "code",
      "source": [
        "plt.plot(train_curve)\n",
        "plt.title('Learning Curve')\n",
        "plt.xlabel('epochs')\n",
        "plt.ylabel('Loss')\n",
        "plt.show()"
      ],
      "metadata": {
        "colab": {
          "base_uri": "https://localhost:8080/",
          "height": 295
        },
        "id": "cHgsBBms6v7r",
        "outputId": "2f90aca3-d00e-4f95-dd05-cfb6a6fcf78e"
      },
      "execution_count": null,
      "outputs": [
        {
          "output_type": "display_data",
          "data": {
            "text/plain": [
              "<Figure size 432x288 with 1 Axes>"
            ],
            "image/png": "[encoded data removed]"
          },
          "metadata": {
            "needs_background": "light"
          }
        }
      ]
    },
    {
      "cell_type": "markdown",
      "source": [
        "##Model Evaluation:"
      ],
      "metadata": {
        "id": "PKsdnJkN3bbr"
      }
    },
    {
      "cell_type": "code",
      "source": [
        "def predict(model,data_set):\n",
        "  '''\n",
        "  function to predict the rul \n",
        "  parameter:\n",
        "  model : the trained model to predcit the output\n",
        "  data_set : data_set object to predict the ouput for it\n",
        "  '''\n",
        "  batch_size = 1024\n",
        "  y_pred = np.zeros((len(data_set),1)) # vector to save the predicted output\n",
        "  \n",
        "  data_loader = DataLoader(dataset = data_set,batch_size = batch_size,shuffle = False)\n",
        "  for i,(x,y) in enumerate(data_loader):\n",
        "    model.train(False)\n",
        "    x = x.to(device)\n",
        "    y_p = model.forward(x)\n",
        "    y_pred[i*batch_size:(i*batch_size+y_p.shape[0])] = y_p.cpu().detach().numpy()\n",
        "  \n",
        "  return y_pred"
      ],
      "metadata": {
        "id": "6GO_DayafCl7"
      },
      "execution_count": null,
      "outputs": []
    },
    {
      "cell_type": "code",
      "source": [
        "y_pred = predict(Model,train_set)"
      ],
      "metadata": {
        "id": "vkMN-sdhNAZ3"
      },
      "execution_count": null,
      "outputs": []
    },
    {
      "cell_type": "code",
      "source": [
        "mse_train = mean_squared_error(y_dev1,y_pred)\n",
        "rmse_train = mean_squared_error(y_dev1,y_pred,squared=False)\n",
        "\n",
        "print(f'The mean squared error for train set      :  {np.mean(mse_train):.4f}')\n",
        "print(f'The root mean squared error for train set :  {np.mean(rmse_train):.4f}')"
      ],
      "metadata": {
        "id": "uO3N8S4FSWNS",
        "colab": {
          "base_uri": "https://localhost:8080/"
        },
        "outputId": "85b20e8c-cff6-402d-d1fd-e128e5ea5f91"
      },
      "execution_count": null,
      "outputs": [
        {
          "output_type": "stream",
          "name": "stdout",
          "text": [
            "The mean squared error for train set      :  90.4913\n",
            "The root mean squared error for train set :  9.5127\n"
          ]
        }
      ]
    },
    {
      "cell_type": "code",
      "source": [
        "\n",
        "#Plot the prediction for the specific unit\n",
        "\n",
        "unit = 6 # For the dev set it range from 1 to 9 \n",
        "index = X_dev[:,0,0]==unit\n",
        "\n",
        "\n",
        "plt.plot(y_dev1[index],label='True Rul')\n",
        "plt.plot(y_pred[index],label='Predicted Rul')\n",
        "plt.xlabel('Cycles')\n",
        "plt.ylabel('RUL')\n",
        "plt.legend()\n",
        "plt.title('Predcited Vs True Rul')\n",
        "plt.show()"
      ],
      "metadata": {
        "colab": {
          "base_uri": "https://localhost:8080/",
          "height": 295
        },
        "id": "Jmye3PIOSWFM",
        "outputId": "b9a5ff62-5b3b-496a-eae2-7a2da9460231"
      },
      "execution_count": null,
      "outputs": [
        {
          "output_type": "display_data",
          "data": {
            "text/plain": [
              "<Figure size 432x288 with 1 Axes>"
            ],
            "image/png": "[encoded data removed]"
          },
          "metadata": {
            "needs_background": "light"
          }
        }
      ]
    },
    {
      "cell_type": "code",
      "source": [
        "#---------------Evalute on Test set -----------------------#\n",
        "X_test,y_test1 = sequence_generator(X_test_normalized,y_test,100)\n",
        "test_set = NCMAPPS(X_test,y_test)\n",
        "y_pred = predict(Model,test_set)\n",
        "\n",
        "mse_test = mean_squared_error(y_test1,y_pred)\n",
        "rmse_test = mean_squared_error(y_test1,y_pred,squared=False)\n",
        "\n",
        "print(f'The mean squared error for test set      :  {np.mean(mse_test):.4f}')\n",
        "print(f'The root mean squared error for test set :  {np.mean(rmse_test):.4f}')"
      ],
      "metadata": {
        "colab": {
          "base_uri": "https://localhost:8080/"
        },
        "id": "EGY2Q6WfKrKe",
        "outputId": "82fc3777-c2ef-45b7-aee8-34f3af8d37a9"
      },
      "execution_count": null,
      "outputs": [
        {
          "output_type": "stream",
          "name": "stdout",
          "text": [
            "The mean squared error for test set      :  80.0023\n",
            "The root mean squared error for test set :  8.9444\n"
          ]
        }
      ]
    },
    {
      "cell_type": "code",
      "source": [
        "\n",
        "#Plot the prediction for the specific unit\n",
        "\n",
        "unit = 14# For the test set it range from 10 to 15 \n",
        "index = X_test[:,0,0]==unit\n",
        "\n",
        "\n",
        "plt.plot(y_test1[index],label='True Rul')\n",
        "plt.plot(y_pred[index],label='Predicted Rul')\n",
        "plt.xlabel('Cycles')\n",
        "plt.ylabel('RUL')\n",
        "plt.legend()\n",
        "plt.title('Predcited Vs True Rul')\n",
        "plt.show()"
      ],
      "metadata": {
        "colab": {
          "base_uri": "https://localhost:8080/",
          "height": 295
        },
        "id": "aWqrRnYgMGGm",
        "outputId": "70bc9d53-5f1c-46a3-a8ae-6d1260df61eb"
      },
      "execution_count": null,
      "outputs": [
        {
          "output_type": "display_data",
          "data": {
            "text/plain": [
              "<Figure size 432x288 with 1 Axes>"
            ],
            "image/png": "[encoded data removed]"
          },
          "metadata": {
            "needs_background": "light"
          }
        }
      ]
    }
  ]
}